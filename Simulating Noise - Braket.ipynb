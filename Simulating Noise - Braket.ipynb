{
 "cells": [
  {
   "cell_type": "code",
   "execution_count": 1,
   "id": "29458bfc",
   "metadata": {},
   "outputs": [],
   "source": [
    "from braket.circuits import Circuit, Observable, Gate, Noise\n",
    "from braket.devices import LocalSimulator\n",
    "from braket.aws import AwsDevice\n",
    "import numpy as np\n",
    "from scipy.stats import unitary_group"
   ]
  },
  {
   "cell_type": "code",
   "execution_count": 32,
   "id": "77c5ce80",
   "metadata": {},
   "outputs": [],
   "source": [
    "circ = Circuit().h(0).cnot(0,1)"
   ]
  },
  {
   "cell_type": "markdown",
   "id": "869c9f35",
   "metadata": {},
   "source": [
    "### With Noise"
   ]
  },
  {
   "cell_type": "code",
   "execution_count": 33,
   "id": "1a359ccf",
   "metadata": {},
   "outputs": [],
   "source": [
    "# defining a noisy channel\n",
    "noise = Noise.BitFlip(probability=0.1)"
   ]
  },
  {
   "cell_type": "code",
   "execution_count": 34,
   "id": "177fdc1b",
   "metadata": {},
   "outputs": [
    {
     "data": {
      "text/plain": [
       "Circuit('instructions': [Instruction('operator': H('qubit_count': 1), 'target': QubitSet([Qubit(0)])), Instruction('operator': BitFlip(0.1), 'target': QubitSet([Qubit(0)])), Instruction('operator': CNot('qubit_count': 2), 'target': QubitSet([Qubit(0), Qubit(1)])), Instruction('operator': BitFlip(0.1), 'target': QubitSet([Qubit(0)])), Instruction('operator': BitFlip(0.1), 'target': QubitSet([Qubit(1)]))])"
      ]
     },
     "execution_count": 34,
     "metadata": {},
     "output_type": "execute_result"
    }
   ],
   "source": [
    "#adding noise to every gate in circuit\n",
    "circ.apply_gate_noise(noise)"
   ]
  },
  {
   "cell_type": "code",
   "execution_count": 35,
   "id": "28395989",
   "metadata": {},
   "outputs": [],
   "source": [
    "# select the local noise simulator\n",
    "device = LocalSimulator('braket_dm')"
   ]
  },
  {
   "cell_type": "code",
   "execution_count": 36,
   "id": "12bba92b",
   "metadata": {},
   "outputs": [
    {
     "name": "stdout",
     "output_type": "stream",
     "text": [
      "Counter({'00': 440, '11': 365, '10': 119, '01': 76})\n"
     ]
    }
   ],
   "source": [
    "# run the circuit on the local simulator\n",
    "result = device.run(circ, shots=1000).result()\n",
    "# get measurement shots\n",
    "counts = result.measurement_counts\n",
    "# print counts\n",
    "print(counts)"
   ]
  },
  {
   "cell_type": "code",
   "execution_count": 37,
   "id": "68b31841",
   "metadata": {},
   "outputs": [
    {
     "data": {
      "image/png": "[encoded data removed]",
      "text/plain": [
       "<Figure size 432x288 with 1 Axes>"
      ]
     },
     "metadata": {
      "needs_background": "light"
     },
     "output_type": "display_data"
    }
   ],
   "source": [
    "# plot histogram\n",
    "import matplotlib.pyplot as plt\n",
    "import time\n",
    "plt.bar(counts.keys(), counts.values());\n",
    "plt.xlabel('bitstrings');\n",
    "plt.ylabel('counts');"
   ]
  },
  {
   "cell_type": "markdown",
   "id": "ea66f948",
   "metadata": {},
   "source": [
    "### Without Noise"
   ]
  },
  {
   "cell_type": "code",
   "execution_count": 38,
   "id": "ee66bb18",
   "metadata": {},
   "outputs": [],
   "source": [
    "circ = Circuit().h(0).cnot(0,1)"
   ]
  },
  {
   "cell_type": "code",
   "execution_count": 39,
   "id": "b04f186e",
   "metadata": {},
   "outputs": [],
   "source": [
    "device=LocalSimulator()"
   ]
  },
  {
   "cell_type": "code",
   "execution_count": 40,
   "id": "72a50878",
   "metadata": {},
   "outputs": [
    {
     "name": "stdout",
     "output_type": "stream",
     "text": [
      "Counter({'00': 510, '11': 490})\n"
     ]
    }
   ],
   "source": [
    "# run the circuit on the local simulator\n",
    "result = device.run(circ, shots=1000).result()\n",
    "# get measurement shots\n",
    "counts = result.measurement_counts\n",
    "# print counts\n",
    "print(counts)"
   ]
  },
  {
   "cell_type": "code",
   "execution_count": 41,
   "id": "65a87e4f",
   "metadata": {},
   "outputs": [
    {
     "data": {
      "image/png": "[encoded data removed]",
      "text/plain": [
       "<Figure size 432x288 with 1 Axes>"
      ]
     },
     "metadata": {
      "needs_background": "light"
     },
     "output_type": "display_data"
    }
   ],
   "source": [
    "# plot histogram\n",
    "import matplotlib.pyplot as plt\n",
    "import time\n",
    "plt.bar(counts.keys(), counts.values());\n",
    "plt.xlabel('bitstrings');\n",
    "plt.ylabel('counts');"
   ]
  },
  {
   "cell_type": "markdown",
   "id": "200377d5",
   "metadata": {},
   "source": [
    "### Predefined Noise Channels\n",
    "The pre-defined single-qubit noise channels include BitFlip, PhaseFlip, Depolarizing, AmplitudeDamping, GeneralizedAmplitudeDamping, PhaseDamping and PauliChannel. The pre-defined two-qubit noise channels include TwoQubitDepolarizing and TwoQubitDephasing."
   ]
  },
  {
   "cell_type": "code",
   "execution_count": 56,
   "id": "a5aa6e63",
   "metadata": {},
   "outputs": [],
   "source": [
    "# defining a noisy channel with bitflip increased probability\n",
    "noise = Noise.BitFlip(probability=0.5)"
   ]
  },
  {
   "cell_type": "code",
   "execution_count": 57,
   "id": "36a8ac2f",
   "metadata": {},
   "outputs": [],
   "source": [
    "circ1 = Circuit().h(0).cnot(0,1)"
   ]
  },
  {
   "cell_type": "code",
   "execution_count": 58,
   "id": "11e98152",
   "metadata": {},
   "outputs": [
    {
     "data": {
      "text/plain": [
       "Circuit('instructions': [Instruction('operator': H('qubit_count': 1), 'target': QubitSet([Qubit(0)])), Instruction('operator': BitFlip(0.5), 'target': QubitSet([Qubit(0)])), Instruction('operator': CNot('qubit_count': 2), 'target': QubitSet([Qubit(0), Qubit(1)])), Instruction('operator': BitFlip(0.5), 'target': QubitSet([Qubit(0)])), Instruction('operator': BitFlip(0.5), 'target': QubitSet([Qubit(1)]))])"
      ]
     },
     "execution_count": 58,
     "metadata": {},
     "output_type": "execute_result"
    }
   ],
   "source": [
    "#adding noise to every gate in circuit\n",
    "circ1.apply_gate_noise(noise)"
   ]
  },
  {
   "cell_type": "code",
   "execution_count": 59,
   "id": "2b9c72c9",
   "metadata": {},
   "outputs": [],
   "source": [
    "# select the local noise simulator\n",
    "device = LocalSimulator('braket_dm')"
   ]
  },
  {
   "cell_type": "code",
   "execution_count": 60,
   "id": "7b13760d",
   "metadata": {},
   "outputs": [
    {
     "name": "stdout",
     "output_type": "stream",
     "text": [
      "Counter({'11': 256, '00': 256, '01': 250, '10': 238})\n"
     ]
    }
   ],
   "source": [
    "# run the circuit on the local simulator\n",
    "result = device.run(circ1, shots=1000).result()\n",
    "# get measurement shots\n",
    "counts = result.measurement_counts\n",
    "# print counts\n",
    "print(counts)"
   ]
  },
  {
   "cell_type": "code",
   "execution_count": 61,
   "id": "ceff827f",
   "metadata": {},
   "outputs": [
    {
     "data": {
      "image/png": "[encoded data removed]",
      "text/plain": [
       "<Figure size 432x288 with 1 Axes>"
      ]
     },
     "metadata": {
      "needs_background": "light"
     },
     "output_type": "display_data"
    }
   ],
   "source": [
    "# plot histogram\n",
    "import matplotlib.pyplot as plt\n",
    "import time\n",
    "plt.bar(counts.keys(), counts.values());\n",
    "plt.xlabel('bitstrings');\n",
    "plt.ylabel('counts');"
   ]
  },
  {
   "cell_type": "code",
   "execution_count": null,
   "id": "3bf9c01a",
   "metadata": {},
   "outputs": [],
   "source": []
  }
 ],
 "metadata": {
  "kernelspec": {
   "display_name": "Python 3",
   "language": "python",
   "name": "python3"
  },
  "language_info": {
   "codemirror_mode": {
    "name": "ipython",
    "version": 3
   },
   "file_extension": ".py",
   "mimetype": "text/x-python",
   "name": "python",
   "nbconvert_exporter": "python",
   "pygments_lexer": "ipython3",
   "version": "3.8.8"
  }
 },
 "nbformat": 4,
 "nbformat_minor": 5
}
