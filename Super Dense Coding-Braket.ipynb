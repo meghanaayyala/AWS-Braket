{
 "cells": [
  {
   "cell_type": "markdown",
   "id": "1cdca95a",
   "metadata": {},
   "source": [
    "### Superdense coding"
   ]
  },
  {
   "cell_type": "markdown",
   "id": "4376bf8f",
   "metadata": {},
   "source": [
    "Steps involved:\n",
    "1. A and B share a bell pair. ( Creating a bell pair--Hadamard(0) and CNOT(0,1)\n",
    "    A has one qubit of bell pair and B has one qubit\n",
    "2. A selects 1/4 message (2^2 combinations) to send Bob. Each message has own \n",
    "    encoding, unique set of quantum gates added to qubit. \n",
    "    00 I\n",
    "    01 X\n",
    "    10 Z\n",
    "    11 ZX\n",
    "3. A send qubit to B\n",
    "4. B decodes two bit message, by first adding CNOT gate\n",
    "    then Hadamard gate to restore the original classical message"
   ]
  },
  {
   "cell_type": "markdown",
   "id": "27c5b2ca",
   "metadata": {},
   "source": [
    "### Sending 00"
   ]
  },
  {
   "cell_type": "code",
   "execution_count": 1,
   "id": "a79c2b2b",
   "metadata": {},
   "outputs": [],
   "source": [
    "from braket.circuits import Circuit, Gate, Moments\n",
    "from braket.circuits.instruction import Instruction\n",
    "from braket.aws import AwsDevice\n",
    "import matplotlib.pyplot as plt\n",
    "import time"
   ]
  },
  {
   "cell_type": "code",
   "execution_count": 2,
   "id": "f16a90bc",
   "metadata": {},
   "outputs": [
    {
     "data": {
      "text/plain": [
       "Circuit('instructions': [Instruction('operator': H('qubit_count': 1), 'target': QubitSet([Qubit(0)])), Instruction('operator': CNot('qubit_count': 2), 'target': QubitSet([Qubit(0), Qubit(1)]))])"
      ]
     },
     "execution_count": 2,
     "metadata": {},
     "output_type": "execute_result"
    }
   ],
   "source": [
    "# making bell pair\n",
    "circ00=Circuit()\n",
    "circ00.h([0])\n",
    "circ00.cnot(0,1)"
   ]
  },
  {
   "cell_type": "code",
   "execution_count": 3,
   "id": "ab7cab35",
   "metadata": {},
   "outputs": [],
   "source": [
    "# Four possible messages and their corresponding gates\n",
    "message = {\"00\": Circuit().i(0),\n",
    "           \"01\": Circuit().x(0),\n",
    "           \"10\": Circuit().z(0),\n",
    "           \"11\": Circuit().x(0).z(0)\n",
    "          }"
   ]
  },
  {
   "cell_type": "code",
   "execution_count": 4,
   "id": "6e379648",
   "metadata": {},
   "outputs": [],
   "source": [
    "# initial message\n",
    "m=\"00\""
   ]
  },
  {
   "cell_type": "code",
   "execution_count": 6,
   "id": "65fa9374",
   "metadata": {},
   "outputs": [
    {
     "data": {
      "text/plain": [
       "Circuit('instructions': [Instruction('operator': H('qubit_count': 1), 'target': QubitSet([Qubit(0)])), Instruction('operator': CNot('qubit_count': 2), 'target': QubitSet([Qubit(0), Qubit(1)])), Instruction('operator': I('qubit_count': 1), 'target': QubitSet([Qubit(0)]))])"
      ]
     },
     "execution_count": 6,
     "metadata": {},
     "output_type": "execute_result"
    }
   ],
   "source": [
    "circ00.add_circuit(message[m])"
   ]
  },
  {
   "cell_type": "code",
   "execution_count": 7,
   "id": "025fe2a1",
   "metadata": {},
   "outputs": [
    {
     "name": "stdout",
     "output_type": "stream",
     "text": [
      "T  : |0|1|2|\n",
      "            \n",
      "q0 : -H-C-I-\n",
      "        |   \n",
      "q1 : ---X---\n",
      "\n",
      "T  : |0|1|2|\n"
     ]
    }
   ],
   "source": [
    "print(circ00)"
   ]
  },
  {
   "cell_type": "code",
   "execution_count": 8,
   "id": "ff45389d",
   "metadata": {},
   "outputs": [
    {
     "data": {
      "text/plain": [
       "Circuit('instructions': [Instruction('operator': H('qubit_count': 1), 'target': QubitSet([Qubit(0)])), Instruction('operator': CNot('qubit_count': 2), 'target': QubitSet([Qubit(0), Qubit(1)])), Instruction('operator': I('qubit_count': 1), 'target': QubitSet([Qubit(0)])), Instruction('operator': CNot('qubit_count': 2), 'target': QubitSet([Qubit(0), Qubit(1)])), Instruction('operator': H('qubit_count': 1), 'target': QubitSet([Qubit(0)]))])"
      ]
     },
     "execution_count": 8,
     "metadata": {},
     "output_type": "execute_result"
    }
   ],
   "source": [
    "# b measures by cnot and then h\n",
    "circ00.cnot(0,1)\n",
    "circ00.h([0])"
   ]
  },
  {
   "cell_type": "code",
   "execution_count": 9,
   "id": "5d8f2770",
   "metadata": {},
   "outputs": [
    {
     "name": "stdout",
     "output_type": "stream",
     "text": [
      "T  : |0|1|2|3|4|\n",
      "                \n",
      "q0 : -H-C-I-C-H-\n",
      "        |   |   \n",
      "q1 : ---X---X---\n",
      "\n",
      "T  : |0|1|2|3|4|\n"
     ]
    }
   ],
   "source": [
    "print(circ00)"
   ]
  },
  {
   "cell_type": "code",
   "execution_count": 12,
   "id": "fb112a26",
   "metadata": {},
   "outputs": [
    {
     "name": "stdout",
     "output_type": "stream",
     "text": [
      "Counter({'00': 1000})\n"
     ]
    }
   ],
   "source": [
    "from braket.devices import LocalSimulator\n",
    "## executing on local simulator\n",
    "device=LocalSimulator()\n",
    "result = device.run(circ00, shots=1000).result()\n",
    "# get measurement shots\n",
    "counts = result.measurement_counts\n",
    "# print counts\n",
    "print(counts)"
   ]
  },
  {
   "cell_type": "code",
   "execution_count": 13,
   "id": "56c688c1",
   "metadata": {},
   "outputs": [
    {
     "data": {
      "image/png": "[encoded data removed]",
      "text/plain": [
       "<Figure size 432x288 with 1 Axes>"
      ]
     },
     "metadata": {
      "needs_background": "light"
     },
     "output_type": "display_data"
    }
   ],
   "source": [
    "# plot histogram\n",
    "plt.bar(counts.keys(), counts.values());\n",
    "plt.xlabel('bitstrings');\n",
    "plt.ylabel('counts');"
   ]
  },
  {
   "cell_type": "markdown",
   "id": "b4d991cf",
   "metadata": {},
   "source": [
    "### Sending other messages 01,10,11"
   ]
  },
  {
   "cell_type": "code",
   "execution_count": 14,
   "id": "8d1ca965",
   "metadata": {},
   "outputs": [],
   "source": [
    "circ=Circuit()"
   ]
  },
  {
   "cell_type": "code",
   "execution_count": 15,
   "id": "a9ee13b5",
   "metadata": {},
   "outputs": [
    {
     "data": {
      "text/plain": [
       "Circuit('instructions': [Instruction('operator': H('qubit_count': 1), 'target': QubitSet([Qubit(0)])), Instruction('operator': CNot('qubit_count': 2), 'target': QubitSet([Qubit(0), Qubit(1)]))])"
      ]
     },
     "execution_count": 15,
     "metadata": {},
     "output_type": "execute_result"
    }
   ],
   "source": [
    "circ.h([0])\n",
    "circ.cnot(0,1)"
   ]
  },
  {
   "cell_type": "code",
   "execution_count": 16,
   "id": "8da4814d",
   "metadata": {},
   "outputs": [
    {
     "data": {
      "text/plain": [
       "Circuit('instructions': [Instruction('operator': H('qubit_count': 1), 'target': QubitSet([Qubit(0)])), Instruction('operator': CNot('qubit_count': 2), 'target': QubitSet([Qubit(0), Qubit(1)])), Instruction('operator': X('qubit_count': 1), 'target': QubitSet([Qubit(0)]))])"
      ]
     },
     "execution_count": 16,
     "metadata": {},
     "output_type": "execute_result"
    }
   ],
   "source": [
    "m=\"01\"\n",
    "circ.add_circuit(message[m])"
   ]
  },
  {
   "cell_type": "code",
   "execution_count": 17,
   "id": "9b30cf73",
   "metadata": {},
   "outputs": [
    {
     "name": "stdout",
     "output_type": "stream",
     "text": [
      "T  : |0|1|2|\n",
      "            \n",
      "q0 : -H-C-X-\n",
      "        |   \n",
      "q1 : ---X---\n",
      "\n",
      "T  : |0|1|2|\n"
     ]
    }
   ],
   "source": [
    "print(circ)"
   ]
  },
  {
   "cell_type": "code",
   "execution_count": 18,
   "id": "ea28e2dd",
   "metadata": {},
   "outputs": [
    {
     "data": {
      "text/plain": [
       "Circuit('instructions': [Instruction('operator': H('qubit_count': 1), 'target': QubitSet([Qubit(0)])), Instruction('operator': CNot('qubit_count': 2), 'target': QubitSet([Qubit(0), Qubit(1)])), Instruction('operator': X('qubit_count': 1), 'target': QubitSet([Qubit(0)])), Instruction('operator': CNot('qubit_count': 2), 'target': QubitSet([Qubit(0), Qubit(1)])), Instruction('operator': H('qubit_count': 1), 'target': QubitSet([Qubit(0)]))])"
      ]
     },
     "execution_count": 18,
     "metadata": {},
     "output_type": "execute_result"
    }
   ],
   "source": [
    "circ.cnot(0,1)\n",
    "circ.h([0])"
   ]
  },
  {
   "cell_type": "code",
   "execution_count": 20,
   "id": "3e36f499",
   "metadata": {},
   "outputs": [
    {
     "name": "stdout",
     "output_type": "stream",
     "text": [
      "Counter({'01': 1000})\n"
     ]
    }
   ],
   "source": [
    "device=LocalSimulator()\n",
    "result = device.run(circ, shots=1000).result()\n",
    "# get measurement shots\n",
    "counts = result.measurement_counts\n",
    "# print counts\n",
    "print(counts)"
   ]
  },
  {
   "cell_type": "code",
   "execution_count": 21,
   "id": "a0a17267",
   "metadata": {},
   "outputs": [
    {
     "data": {
      "image/png": "[encoded data removed]",
      "text/plain": [
       "<Figure size 432x288 with 1 Axes>"
      ]
     },
     "metadata": {
      "needs_background": "light"
     },
     "output_type": "display_data"
    }
   ],
   "source": [
    "# plot histogram\n",
    "plt.bar(counts.keys(), counts.values());\n",
    "plt.xlabel('bitstrings');\n",
    "plt.ylabel('counts');"
   ]
  },
  {
   "cell_type": "code",
   "execution_count": 24,
   "id": "5c190d42",
   "metadata": {},
   "outputs": [
    {
     "name": "stdout",
     "output_type": "stream",
     "text": [
      "T  : |0|1|2|3|4|5|\n",
      "                  \n",
      "q0 : -H-C-X-Z-C-H-\n",
      "        |     |   \n",
      "q1 : ---X-----X---\n",
      "\n",
      "T  : |0|1|2|3|4|5|\n"
     ]
    }
   ],
   "source": [
    "## message 11\n",
    "circ=Circuit()\n",
    "circ.h([0])\n",
    "circ.cnot(0,1)\n",
    "m=\"11\"\n",
    "circ.add_circuit(message[m])\n",
    "circ.cnot(0,1)\n",
    "circ.h([0])\n",
    "print(circ)"
   ]
  },
  {
   "cell_type": "code",
   "execution_count": 25,
   "id": "534db1f8",
   "metadata": {},
   "outputs": [
    {
     "name": "stdout",
     "output_type": "stream",
     "text": [
      "Counter({'11': 1000})\n"
     ]
    }
   ],
   "source": [
    "device=LocalSimulator()\n",
    "result = device.run(circ, shots=1000).result()\n",
    "# get measurement shots\n",
    "counts = result.measurement_counts\n",
    "# print counts\n",
    "print(counts)"
   ]
  },
  {
   "cell_type": "code",
   "execution_count": 26,
   "id": "9798a00f",
   "metadata": {},
   "outputs": [
    {
     "data": {
      "image/png": "[encoded data removed]",
      "text/plain": [
       "<Figure size 432x288 with 1 Axes>"
      ]
     },
     "metadata": {
      "needs_background": "light"
     },
     "output_type": "display_data"
    }
   ],
   "source": [
    "# plot histogram\n",
    "plt.bar(counts.keys(), counts.values());\n",
    "plt.xlabel('bitstrings');\n",
    "plt.ylabel('counts');"
   ]
  },
  {
   "cell_type": "markdown",
   "id": "21d54037",
   "metadata": {},
   "source": [
    "\n",
    "00\t𝐼\t|00⟩ + |11⟩\t|00⟩ + |10⟩\t|00⟩ <br>\n",
    "01\t𝑋\t|10⟩ + |01⟩\t|11⟩ + |01⟩\t|01⟩ <br>\n",
    "10\t𝑍\t|00⟩ - |11⟩\t|00⟩ - |10⟩\t|10⟩ <br>\n",
    "11\t𝑍𝑋\t|01⟩ - |10⟩\t|01⟩ - |11⟩\t|11⟩ <br>"
   ]
  },
  {
   "cell_type": "code",
   "execution_count": null,
   "id": "2e587c90",
   "metadata": {},
   "outputs": [],
   "source": []
  }
 ],
 "metadata": {
  "kernelspec": {
   "display_name": "Python 3",
   "language": "python",
   "name": "python3"
  },
  "language_info": {
   "codemirror_mode": {
    "name": "ipython",
    "version": 3
   },
   "file_extension": ".py",
   "mimetype": "text/x-python",
   "name": "python",
   "nbconvert_exporter": "python",
   "pygments_lexer": "ipython3",
   "version": "3.8.8"
  }
 },
 "nbformat": 4,
 "nbformat_minor": 5
}
